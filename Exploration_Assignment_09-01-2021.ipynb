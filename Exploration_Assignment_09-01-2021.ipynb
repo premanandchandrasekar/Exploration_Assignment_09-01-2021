{
 "cells": [
  {
   "cell_type": "code",
   "execution_count": 2,
   "metadata": {},
   "outputs": [
    {
     "name": "stdout",
     "output_type": "stream",
     "text": [
      "(23.3+0j)\n",
      "True\n",
      "############# Boolean conversion\n",
      "True\n",
      "(1+0j)\n",
      "1\n",
      "1.0\n",
      "############# Str(number) conversion\n",
      "True\n",
      "(12+0j)\n",
      "12\n",
      "12.0\n",
      "############# Str(non-number) conversion\n",
      "<class 'str'>\n",
      "True\n"
     ]
    }
   ],
   "source": [
    "# Exploration Assignment:\n",
    "\n",
    "# Complex -  int,float,boolean,str\n",
    "# boolean - int,float,complex,str\n",
    "# str(numeric) - int,float,complex,boolean\n",
    "# str(non-numeric) - int,float,complex,boolean\n",
    "\n",
    "# Complex conversion\n",
    "\n",
    "a = 23.3\n",
    "b = complex(a)\n",
    "\n",
    "print(str(b))\n",
    "print(bool(b))\n",
    "# print(int(b)) # Cannot convert complex number into int\n",
    "# print(float(b)) # Cannot convert conplex number into float\n",
    "\n",
    "# Boolean conversion\n",
    "\n",
    "b = True\n",
    "print('############# Boolean conversion')\n",
    "print(str(b))\n",
    "print(complex(b))\n",
    "print(int(b)) \n",
    "print(float(b)) \n",
    "\n",
    "\n",
    "b = str(12)\n",
    "print('############# Str(number) conversion')\n",
    "print(bool(b))\n",
    "print(complex(b))\n",
    "print(int(b)) # Cannot convert complex number into int\n",
    "print(float(b)) # Cannot convert conplex number into float\n",
    "\n",
    "b = str('hello world1')\n",
    "\n",
    "print('############# Str(non-number) conversion')\n",
    "print(type(b))\n",
    "print(bool(b))\n",
    "# print(complex(b)) # Cannot convert str(non-numeric) into complex\n",
    "# print(int(b)) # Cannot convert str(non-numeric) into int\n",
    "# print(float(b)) # Cannot convert str(non-numeric) into float"
   ]
  },
  {
   "cell_type": "code",
   "execution_count": null,
   "metadata": {},
   "outputs": [],
   "source": []
  }
 ],
 "metadata": {
  "kernelspec": {
   "display_name": "Python 3",
   "language": "python",
   "name": "python3"
  },
  "language_info": {
   "codemirror_mode": {
    "name": "ipython",
    "version": 3
   },
   "file_extension": ".py",
   "mimetype": "text/x-python",
   "name": "python",
   "nbconvert_exporter": "python",
   "pygments_lexer": "ipython3",
   "version": "3.8.5"
  }
 },
 "nbformat": 4,
 "nbformat_minor": 4
}
